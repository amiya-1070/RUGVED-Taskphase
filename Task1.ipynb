{
 "cells": [
  {
   "cell_type": "code",
   "execution_count": 22,
   "metadata": {},
   "outputs": [],
   "source": [
    "import pandas as pd\n",
    "d=pd.read_csv(\"matches.csv\")"
   ]
  },
  {
   "cell_type": "code",
   "execution_count": 23,
   "metadata": {},
   "outputs": [
    {
     "name": "stdout",
     "output_type": "stream",
     "text": [
      "The total number of matches conducted in 2008 is:  58\n"
     ]
    }
   ],
   "source": [
    "#Count the total number of matches conducted in year 2008\n",
    "print(\"The total number of matches conducted in 2008 is: \",d[d['season']==2008]['id'].count())"
   ]
  },
  {
   "cell_type": "code",
   "execution_count": 24,
   "metadata": {},
   "outputs": [
    {
     "name": "stdout",
     "output_type": "stream",
     "text": [
      "Mumbai has had 101 matches, the maximum.\n",
      "The minimum number of matches were 2 in Bloemfontein\n"
     ]
    }
   ],
   "source": [
    "#Find the city name where the maximum and minimum number of matches were conducted\n",
    "c=pd.DataFrame(d['city'].value_counts())\n",
    "print(c.index[0],\"has had\",c['count'].iloc[0],\"matches, the maximum.\")\n",
    "print(\"The minimum number of matches were\",c['count'].iloc[-1],\"in\",c.index[-1],)"
   ]
  },
  {
   "cell_type": "code",
   "execution_count": 25,
   "metadata": {},
   "outputs": [
    {
     "data": {
      "text/plain": [
       "city\n",
       "Mumbai            101\n",
       "Kolkata            77\n",
       "Delhi              74\n",
       "Bangalore          66\n",
       "Hyderabad          64\n",
       "Chennai            57\n",
       "Jaipur             47\n",
       "Chandigarh         46\n",
       "Pune               38\n",
       "Durban             15\n",
       "Bengaluru          14\n",
       "Visakhapatnam      13\n",
       "Centurion          12\n",
       "Ahmedabad          12\n",
       "Mohali             10\n",
       "Rajkot             10\n",
       "Dharamsala          9\n",
       "Indore              9\n",
       "Johannesburg        8\n",
       "Port Elizabeth      7\n",
       "Abu Dhabi           7\n",
       "Cape Town           7\n",
       "Ranchi              7\n",
       "Cuttack             7\n",
       "Sharjah             6\n",
       "Raipur              6\n",
       "Kochi               5\n",
       "Kanpur              4\n",
       "Kimberley           3\n",
       "Nagpur              3\n",
       "East London         3\n",
       "Bloemfontein        2\n",
       "Name: count, dtype: int64"
      ]
     },
     "execution_count": 25,
     "metadata": {},
     "output_type": "execute_result"
    }
   ],
   "source": [
    "#Find the total count of matches city wise\n",
    "d['city'].value_counts()"
   ]
  },
  {
   "cell_type": "code",
   "execution_count": 26,
   "metadata": {},
   "outputs": [
    {
     "name": "stdout",
     "output_type": "stream",
     "text": [
      "Mumbai Indians has the won the toss 98 times, the maximum.\n",
      "Rising Pune Supergiant has won the toss 6 times, the minimum.\n"
     ]
    }
   ],
   "source": [
    "#Find the team which is the minimum and maximum toss winner\n",
    "t=pd.DataFrame(d[\"toss_winner\"].value_counts())\n",
    "print(t.index[0],\"has the won the toss\",t['count'].iloc[0],\"times, the maximum.\")\n",
    "print(t.index[-1],\"has won the toss\",t['count'].iloc[-1],\"times, the minimum.\")"
   ]
  },
  {
   "cell_type": "code",
   "execution_count": 27,
   "metadata": {},
   "outputs": [
    {
     "name": "stdout",
     "output_type": "stream",
     "text": [
      "        toss_winner toss_decision\n",
      "6    Mumbai Indians         field\n",
      "9    Mumbai Indians         field\n",
      "11   Mumbai Indians         field\n",
      "15   Mumbai Indians         field\n",
      "21   Mumbai Indians         field\n",
      "..              ...           ...\n",
      "729  Mumbai Indians           bat\n",
      "742  Mumbai Indians         field\n",
      "746  Mumbai Indians           bat\n",
      "751  Mumbai Indians         field\n",
      "755  Mumbai Indians           bat\n",
      "\n",
      "[98 rows x 2 columns]\n",
      "               toss_winner toss_decision\n",
      "1   Rising Pune Supergiant         field\n",
      "8   Rising Pune Supergiant         field\n",
      "24  Rising Pune Supergiant         field\n",
      "37  Rising Pune Supergiant         field\n",
      "39  Rising Pune Supergiant         field\n",
      "53  Rising Pune Supergiant         field\n"
     ]
    }
   ],
   "source": [
    "#Check the toss decision that the team has taken\n",
    "print(d[[\"toss_winner\",\"toss_decision\"]][d[\"toss_winner\"]==t.index[0]])\n",
    "print(d[[\"toss_winner\",\"toss_decision\"]][d[\"toss_winner\"]==t.index[-1]])"
   ]
  },
  {
   "cell_type": "code",
   "execution_count": 28,
   "metadata": {},
   "outputs": [
    {
     "name": "stdout",
     "output_type": "stream",
     "text": [
      "count    743\n",
      "Name: normal, dtype: int64\n",
      "count    9\n",
      "Name: tie, dtype: int64\n"
     ]
    }
   ],
   "source": [
    "#Count the total number of normal and tie matches\n",
    "r=pd.DataFrame(d.value_counts(\"result\"))\n",
    "print(r.loc[\"normal\"])\n",
    "print(r.loc[\"tie\"])\n"
   ]
  },
  {
   "cell_type": "code",
   "execution_count": 29,
   "metadata": {},
   "outputs": [
    {
     "name": "stdout",
     "output_type": "stream",
     "text": [
      "The matches where the result is a tie:\n",
      "                            team1                        team2\n",
      "33                 Gujarat Lions               Mumbai Indians\n",
      "125             Rajasthan Royals        Kolkata Knight Riders\n",
      "189              Kings XI Punjab          Chennai Super Kings\n",
      "387  Royal Challengers Bangalore          Sunrisers Hyderabad\n",
      "400             Delhi Daredevils  Royal Challengers Bangalore\n",
      "475             Rajasthan Royals        Kolkata Knight Riders\n",
      "535             Rajasthan Royals              Kings XI Punjab\n",
      "705        Kolkata Knight Riders               Delhi Capitals\n",
      "746               Mumbai Indians          Sunrisers Hyderabad\n"
     ]
    }
   ],
   "source": [
    "#Find the team names where the match result is a tie\n",
    "print(\"The matches where the result is a tie:\\n\",d[[\"team1\",\"team2\"]][d[\"result\"]==\"tie\"])"
   ]
  },
  {
   "cell_type": "code",
   "execution_count": 30,
   "metadata": {},
   "outputs": [
    {
     "name": "stdout",
     "output_type": "stream",
     "text": [
      "Mumbai Indians won by the highest run margin of 146\n"
     ]
    }
   ],
   "source": [
    "#Find the team name who won their match by the highest runs\n",
    "w=d[\"winner\"][d[\"win_by_runs\"]==d[\"win_by_runs\"].max()]\n",
    "print(w.iloc[0],\"won by the highest run margin of\",d[\"win_by_runs\"].max())"
   ]
  },
  {
   "cell_type": "code",
   "execution_count": 31,
   "metadata": {},
   "outputs": [
    {
     "name": "stdout",
     "output_type": "stream",
     "text": [
      "['Rising Pune Supergiant' 'Kolkata Knight Riders' 'Kings XI Punjab'\n",
      " 'Sunrisers Hyderabad' 'Mumbai Indians' 'Gujarat Lions' 'Delhi Daredevils'\n",
      " 'Royal Challengers Bangalore' 'Rajasthan Royals' 'Chennai Super Kings'\n",
      " 'Deccan Chargers' 'Pune Warriors' 'Kochi Tuskers Kerala' nan\n",
      " 'Rising Pune Supergiants' 'Delhi Capitals'] \n",
      "\n",
      "won by the lowest run margin of 0\n"
     ]
    }
   ],
   "source": [
    "#Find the team name who won their match by the lowest runs\n",
    "l=d[\"winner\"][d[\"win_by_runs\"]==d[\"win_by_runs\"].min()]\n",
    "print(l.unique(),\"\\n\\nwon by the lowest run margin of\",(d[\"win_by_runs\"].min()))\n",
    "#unique"
   ]
  },
  {
   "cell_type": "code",
   "execution_count": 32,
   "metadata": {},
   "outputs": [
    {
     "name": "stdout",
     "output_type": "stream",
     "text": [
      "player_of_match\n",
      "CH Gayle          21\n",
      "AB de Villiers    20\n",
      "MS Dhoni          17\n",
      "RG Sharma         17\n",
      "DA Warner         17\n",
      "                  ..\n",
      "CA Lynn            4\n",
      "AR Patel           4\n",
      "KL Rahul           4\n",
      "F du Plessis       4\n",
      "MK Pandey          4\n",
      "Name: count, Length: 65, dtype: int64\n"
     ]
    }
   ],
   "source": [
    "#Find the player who was Player of the match more than 3 times\n",
    "p=d[\"player_of_match\"].value_counts()\n",
    "print(p[p>3])\n",
    "#use lambda\n"
   ]
  },
  {
   "cell_type": "code",
   "execution_count": 33,
   "metadata": {},
   "outputs": [
    {
     "name": "stdout",
     "output_type": "stream",
     "text": [
      "The player with the maximum number of player of the match awards is:\n",
      " player_of_match\n",
      "CH Gayle    21\n",
      "Name: count, dtype: int64\n"
     ]
    }
   ],
   "source": [
    "#Find the player who was awarded player of the match the maximum number of times\n",
    "print(\"The player with the maximum number of player of the match awards is:\\n\",p[p==p.max()])"
   ]
  },
  {
   "cell_type": "code",
   "execution_count": 34,
   "metadata": {},
   "outputs": [
    {
     "name": "stdout",
     "output_type": "stream",
     "text": [
      "               venue  win_by_runs\n",
      "43  Feroz Shah Kotla          146\n"
     ]
    }
   ],
   "source": [
    "#Find the venue where the team won the match by the highest runs\n",
    "print(d[[\"venue\",\"win_by_runs\"]][d[\"win_by_runs\"]==d[\"win_by_runs\"].max()])"
   ]
  },
  {
   "cell_type": "code",
   "execution_count": 35,
   "metadata": {},
   "outputs": [
    {
     "data": {
      "text/plain": [
       "array(['Maharashtra Cricket Association Stadium',\n",
       "       'Saurashtra Cricket Association Stadium', 'Holkar Cricket Stadium',\n",
       "       'Rajiv Gandhi International Stadium, Uppal', 'Wankhede Stadium',\n",
       "       'Eden Gardens', 'M Chinnaswamy Stadium', 'Feroz Shah Kotla',\n",
       "       'Punjab Cricket Association IS Bindra Stadium, Mohali',\n",
       "       'Green Park', 'Sawai Mansingh Stadium',\n",
       "       'MA Chidambaram Stadium, Chepauk', 'Dr DY Patil Sports Academy',\n",
       "       'Punjab Cricket Association Stadium, Mohali', 'Newlands',\n",
       "       'Kingsmead', \"St George's Park\", 'SuperSport Park',\n",
       "       'New Wanderers Stadium', 'Buffalo Park', 'De Beers Diamond Oval',\n",
       "       'OUTsurance Oval', 'Sardar Patel Stadium, Motera',\n",
       "       'Brabourne Stadium',\n",
       "       'Vidarbha Cricket Association Stadium, Jamtha',\n",
       "       'Himachal Pradesh Cricket Association Stadium', 'Nehru Stadium',\n",
       "       'Dr. Y.S. Rajasekhara Reddy ACA-VDCA Cricket Stadium',\n",
       "       'Subrata Roy Sahara Stadium', 'Barabati Stadium',\n",
       "       'Shaheed Veer Narayan Singh International Stadium',\n",
       "       'JSCA International Stadium Complex', 'Sharjah Cricket Stadium',\n",
       "       'Sheikh Zayed Stadium', 'Dubai International Cricket Stadium',\n",
       "       'M. A. Chidambaram Stadium', 'Feroz Shah Kotla Ground',\n",
       "       'Rajiv Gandhi Intl. Cricket Stadium', 'IS Bindra Stadium',\n",
       "       'M. Chinnaswamy Stadium', 'ACA-VDCA Stadium'], dtype=object)"
      ]
     },
     "execution_count": 35,
     "metadata": {},
     "output_type": "execute_result"
    }
   ],
   "source": [
    "ve=d[[\"venue\",\"win_by_runs\"]][d[\"win_by_runs\"]==d[\"win_by_runs\"].min()]\n",
    "ve[\"venue\"].unique()\n",
    "#find unique"
   ]
  },
  {
   "cell_type": "code",
   "execution_count": 36,
   "metadata": {},
   "outputs": [
    {
     "name": "stdout",
     "output_type": "stream",
     "text": [
      "HDPK Dharmasena was umpire 1 73 times, the maximum.\n",
      "S Ravi was umpire 2 57 times, the maximum.\n",
      "Nitin Menon was umpire 3 10 times, the maximum.\n"
     ]
    },
    {
     "data": {
      "text/plain": [
       "HDPK Dharmasena    73\n",
       "Asad Rauf          51\n",
       "S Ravi             49\n",
       "AK Chaudhary       43\n",
       "Aleem Dar          38\n",
       "Name: count, dtype: int64"
      ]
     },
     "execution_count": 36,
     "metadata": {},
     "output_type": "execute_result"
    }
   ],
   "source": [
    "#Find umpires who did umpiring maximum number of times\n",
    "u1=d[\"umpire1\"].value_counts()\n",
    "print(u1.index[0],\"was umpire 1\",u1.iloc[0],\"times, the maximum.\")\n",
    "u2=d[\"umpire2\"].value_counts()\n",
    "print(u2.index[0],\"was umpire 2\",u2.iloc[0],\"times, the maximum.\")\n",
    "u3=d[\"umpire3\"].value_counts()\n",
    "print(u3.index[0],\"was umpire 3\",u3.iloc[0],\"times, the maximum.\")\n",
    "frames = [u1,u2,u3]\n",
    "ump=pd.concat(frames)\n",
    "ump.head()\n",
    "\n"
   ]
  },
  {
   "cell_type": "code",
   "execution_count": 37,
   "metadata": {},
   "outputs": [
    {
     "name": "stdout",
     "output_type": "stream",
     "text": [
      "The total number of matches in each season is as follows:\n",
      "season\n",
      "2013    76\n",
      "2012    74\n",
      "2011    73\n",
      "2010    60\n",
      "2016    60\n",
      "2018    60\n",
      "2019    60\n",
      "2014    60\n",
      "2017    59\n",
      "2015    59\n",
      "2008    58\n",
      "2009    57\n",
      "Name: count, dtype: int64\n"
     ]
    }
   ],
   "source": [
    "#Find the total matches played in each season\n",
    "print(\"The total number of matches in each season is as follows:\")\n",
    "s=pd.Series(d[\"season\"].value_counts())\n",
    "print(s)"
   ]
  },
  {
   "cell_type": "code",
   "execution_count": 38,
   "metadata": {},
   "outputs": [
    {
     "name": "stdout",
     "output_type": "stream",
     "text": [
      "Total runs in:\n",
      "2008    17937\n",
      "2009    16353\n",
      "2010    18883\n",
      "2011    21154\n",
      "2012    22453\n",
      "2013    22602\n",
      "2014    18931\n",
      "2015    18353\n",
      "2016    18862\n",
      "2017    18786\n",
      "2018    20706\n",
      "2019    20270\n",
      "dtype: int64\n"
     ]
    }
   ],
   "source": [
    "#Find the total runs in each season\n",
    "import numpy as np\n",
    "arr=np.array\n",
    "de=pd.read_csv(\"deliveries.csv\")\n",
    "print(\"Total runs in:\")\n",
    "\n",
    "j=0\n",
    "r=[]\n",
    "for i in d[\"id\"]:\n",
    "    su=0\n",
    "    while (j<len(de) and de[\"match_id\"].iloc[j]==i):\n",
    "        su+=de[\"total_runs\"].iloc[j]\n",
    "        j+=1\n",
    "    r.append(su)\n",
    "d[\"total_runs\"]=r\n",
    "d.to_csv(\"matches1.csv\")\n",
    "j=0\n",
    "se = list(d[\"season\"].unique())\n",
    "to=[]\n",
    "for i in se:\n",
    "    su=0\n",
    "    while (j<len(d) and d[\"season\"].iloc[j]==i):\n",
    "        su+=d[\"total_runs\"].iloc[j]\n",
    "        j+=1\n",
    "    to.append(su)\n",
    "t=pd.Series(to)\n",
    "t.index=se\n",
    "print(t.sort_index())\n",
    "\n",
    "#use merge for the two dataframes on the column id and use group by function and sum\n"
   ]
  },
  {
   "cell_type": "code",
   "execution_count": 39,
   "metadata": {},
   "outputs": [
    {
     "ename": "TypeError",
     "evalue": "merge() missing 2 required positional arguments: 'left' and 'right'",
     "output_type": "error",
     "traceback": [
      "\u001b[1;31m---------------------------------------------------------------------------\u001b[0m",
      "\u001b[1;31mTypeError\u001b[0m                                 Traceback (most recent call last)",
      "Cell \u001b[1;32mIn[39], line 1\u001b[0m\n\u001b[1;32m----> 1\u001b[0m df1\u001b[38;5;241m=\u001b[39m\u001b[43mpd\u001b[49m\u001b[38;5;241;43m.\u001b[39;49m\u001b[43mmerge\u001b[49m\u001b[43m(\u001b[49m\u001b[43m)\u001b[49m\n",
      "\u001b[1;31mTypeError\u001b[0m: merge() missing 2 required positional arguments: 'left' and 'right'"
     ]
    }
   ],
   "source": [
    "df1=pd.merge()"
   ]
  },
  {
   "cell_type": "code",
   "execution_count": null,
   "metadata": {},
   "outputs": [
    {
     "data": {
      "text/plain": [
       "toss_winner\n",
       "Mumbai Indians                 98\n",
       "Kolkata Knight Riders          92\n",
       "Chennai Super Kings            89\n",
       "Kings XI Punjab                81\n",
       "Royal Challengers Bangalore    81\n",
       "Delhi Daredevils               80\n",
       "Rajasthan Royals               80\n",
       "Sunrisers Hyderabad            46\n",
       "Deccan Chargers                43\n",
       "Pune Warriors                  20\n",
       "Gujarat Lions                  15\n",
       "Delhi Capitals                 10\n",
       "Kochi Tuskers Kerala            8\n",
       "Rising Pune Supergiants         7\n",
       "Rising Pune Supergiant          6\n",
       "Name: count, dtype: int64"
      ]
     },
     "execution_count": 50,
     "metadata": {},
     "output_type": "execute_result"
    }
   ],
   "source": [
    "#Find the number of tosses won by each team\n",
    "d[\"toss_winner\"].value_counts()"
   ]
  },
  {
   "cell_type": "code",
   "execution_count": null,
   "metadata": {},
   "outputs": [
    {
     "data": {
      "text/plain": [
       "<Axes: xlabel='season'>"
      ]
     },
     "execution_count": 51,
     "metadata": {},
     "output_type": "execute_result"
    },
    {
     "data": {
      "image/png": "[encoded data removed]",
      "text/plain": [
       "<Figure size 640x480 with 1 Axes>"
      ]
     },
     "metadata": {},
     "output_type": "display_data"
    }
   ],
   "source": [
    "#Visualize the toss decision across seasons\n",
    "#make a bar graph of field frequency across seasons, similarly one for bat\n",
    "import matplotlib.pyplot as plt\n",
    "f=d[\"season\"][d[\"toss_decision\"]==\"field\"].value_counts()\n",
    "f=f.sort_index()\n",
    "b=d[\"season\"][d[\"toss_decision\"]==\"bat\"].value_counts()\n",
    "b=b.sort_index()\n",
    "decision=pd.DataFrame()\n",
    "decision[\"bat\"]=b\n",
    "decision[\"field\"]=f\n",
    "decision.plot(kind=\"bar\",color=[\"cadetblue\",\"lightsalmon\"])"
   ]
  },
  {
   "cell_type": "code",
   "execution_count": null,
   "metadata": {},
   "outputs": [
    {
     "data": {
      "text/html": [
       "<div>\n",
       "<style scoped>\n",
       "    .dataframe tbody tr th:only-of-type {\n",
       "        vertical-align: middle;\n",
       "    }\n",
       "\n",
       "    .dataframe tbody tr th {\n",
       "        vertical-align: top;\n",
       "    }\n",
       "\n",
       "    .dataframe thead th {\n",
       "        text-align: right;\n",
       "    }\n",
       "</style>\n",
       "<table border=\"1\" class=\"dataframe\">\n",
       "  <thead>\n",
       "    <tr style=\"text-align: right;\">\n",
       "      <th></th>\n",
       "      <th>count</th>\n",
       "    </tr>\n",
       "    <tr>\n",
       "      <th>dismissal_kind</th>\n",
       "      <th></th>\n",
       "    </tr>\n",
       "  </thead>\n",
       "  <tbody>\n",
       "    <tr>\n",
       "      <th>caught</th>\n",
       "      <td>5348</td>\n",
       "    </tr>\n",
       "    <tr>\n",
       "      <th>bowled</th>\n",
       "      <td>1581</td>\n",
       "    </tr>\n",
       "    <tr>\n",
       "      <th>run out</th>\n",
       "      <td>852</td>\n",
       "    </tr>\n",
       "    <tr>\n",
       "      <th>lbw</th>\n",
       "      <td>540</td>\n",
       "    </tr>\n",
       "    <tr>\n",
       "      <th>stumped</th>\n",
       "      <td>278</td>\n",
       "    </tr>\n",
       "    <tr>\n",
       "      <th>caught and bowled</th>\n",
       "      <td>211</td>\n",
       "    </tr>\n",
       "    <tr>\n",
       "      <th>retired hurt</th>\n",
       "      <td>12</td>\n",
       "    </tr>\n",
       "    <tr>\n",
       "      <th>hit wicket</th>\n",
       "      <td>10</td>\n",
       "    </tr>\n",
       "    <tr>\n",
       "      <th>obstructing the field</th>\n",
       "      <td>2</td>\n",
       "    </tr>\n",
       "  </tbody>\n",
       "</table>\n",
       "</div>"
      ],
      "text/plain": [
       "                       count\n",
       "dismissal_kind              \n",
       "caught                  5348\n",
       "bowled                  1581\n",
       "run out                  852\n",
       "lbw                      540\n",
       "stumped                  278\n",
       "caught and bowled        211\n",
       "retired hurt              12\n",
       "hit wicket                10\n",
       "obstructing the field      2"
      ]
     },
     "execution_count": 52,
     "metadata": {},
     "output_type": "execute_result"
    }
   ],
   "source": [
    "# Find the dismissal kind and visualize using best fit graph\n",
    "di=pd.DataFrame(de[\"dismissal_kind\"].value_counts())\n",
    "di\n",
    "plot.scatter\n",
    "pl"
   ]
  },
  {
   "cell_type": "code",
   "execution_count": null,
   "metadata": {},
   "outputs": [],
   "source": [
    "#Find the top 10 scorers in the IPL and visualize using a best fit graph\n",
    "#polyfit scatter plot"
   ]
  },
  {
   "cell_type": "code",
   "execution_count": null,
   "metadata": {},
   "outputs": [
    {
     "data": {
      "text/html": [
       "<div>\n",
       "<style scoped>\n",
       "    .dataframe tbody tr th:only-of-type {\n",
       "        vertical-align: middle;\n",
       "    }\n",
       "\n",
       "    .dataframe tbody tr th {\n",
       "        vertical-align: top;\n",
       "    }\n",
       "\n",
       "    .dataframe thead th {\n",
       "        text-align: right;\n",
       "    }\n",
       "</style>\n",
       "<table border=\"1\" class=\"dataframe\">\n",
       "  <thead>\n",
       "    <tr style=\"text-align: right;\">\n",
       "      <th></th>\n",
       "      <th>count</th>\n",
       "    </tr>\n",
       "    <tr>\n",
       "      <th>player_of_match</th>\n",
       "      <th></th>\n",
       "    </tr>\n",
       "  </thead>\n",
       "  <tbody>\n",
       "    <tr>\n",
       "      <th>CH Gayle</th>\n",
       "      <td>21</td>\n",
       "    </tr>\n",
       "    <tr>\n",
       "      <th>AB de Villiers</th>\n",
       "      <td>20</td>\n",
       "    </tr>\n",
       "    <tr>\n",
       "      <th>MS Dhoni</th>\n",
       "      <td>17</td>\n",
       "    </tr>\n",
       "    <tr>\n",
       "      <th>RG Sharma</th>\n",
       "      <td>17</td>\n",
       "    </tr>\n",
       "    <tr>\n",
       "      <th>DA Warner</th>\n",
       "      <td>17</td>\n",
       "    </tr>\n",
       "    <tr>\n",
       "      <th>YK Pathan</th>\n",
       "      <td>16</td>\n",
       "    </tr>\n",
       "    <tr>\n",
       "      <th>SR Watson</th>\n",
       "      <td>15</td>\n",
       "    </tr>\n",
       "    <tr>\n",
       "      <th>SK Raina</th>\n",
       "      <td>14</td>\n",
       "    </tr>\n",
       "    <tr>\n",
       "      <th>G Gambhir</th>\n",
       "      <td>13</td>\n",
       "    </tr>\n",
       "    <tr>\n",
       "      <th>MEK Hussey</th>\n",
       "      <td>12</td>\n",
       "    </tr>\n",
       "  </tbody>\n",
       "</table>\n",
       "</div>"
      ],
      "text/plain": [
       "                 count\n",
       "player_of_match       \n",
       "CH Gayle            21\n",
       "AB de Villiers      20\n",
       "MS Dhoni            17\n",
       "RG Sharma           17\n",
       "DA Warner           17\n",
       "YK Pathan           16\n",
       "SR Watson           15\n",
       "SK Raina            14\n",
       "G Gambhir           13\n",
       "MEK Hussey          12"
      ]
     },
     "execution_count": 97,
     "metadata": {},
     "output_type": "execute_result"
    },
    {
     "data": {
      "image/png": "[encoded data removed]",
      "text/plain": [
       "<Figure size 640x480 with 1 Axes>"
      ]
     },
     "metadata": {},
     "output_type": "display_data"
    }
   ],
   "source": [
    "#Visualize the highest MOM award winners\n",
    "m=pd.DataFrame(d[\"player_of_match\"].value_counts())\n",
    "m=m.head(10)\n",
    "p=(m.index).to_list()\n",
    "m.plot(xticks=range(len(p)),color='darkblue',rot=90,marker='o',markerfacecolor='slateblue')\n",
    "m"
   ]
  },
  {
   "cell_type": "code",
   "execution_count": null,
   "metadata": {},
   "outputs": [
    {
     "name": "stdout",
     "output_type": "stream",
     "text": [
      "The total number of matches played by:\n",
      "                             count\n",
      "Chennai Super Kings            164\n",
      "Deccan Chargers                 75\n",
      "Delhi Capitals                  16\n",
      "Delhi Daredevils               161\n",
      "Gujarat Lions                   30\n",
      "Kings XI Punjab                176\n",
      "Kochi Tuskers Kerala            14\n",
      "Kolkata Knight Riders          178\n",
      "Mumbai Indians                 187\n",
      "Pune Warriors                   46\n",
      "Rajasthan Royals               147\n",
      "Rising Pune Supergiant          16\n",
      "Rising Pune Supergiants         14\n",
      "Royal Challengers Bangalore    180\n",
      "Sunrisers Hyderabad            108\n"
     ]
    }
   ],
   "source": [
    "#Find the total number of matches played by each team\n",
    "d1=d[\"team1\"].value_counts()\n",
    "d2=d[\"team2\"].value_counts()\n",
    "d3=pd.DataFrame(d1+d2)\n",
    "print(\"The total number of matches played by:\")\n",
    "print(d3)\n",
    "d3=d3.rename(columns={\"count\":\"played\"})"
   ]
  },
  {
   "cell_type": "code",
   "execution_count": 40,
   "metadata": {},
   "outputs": [
    {
     "data": {
      "text/plain": [
       "<Axes: >"
      ]
     },
     "execution_count": 40,
     "metadata": {},
     "output_type": "execute_result"
    },
    {
     "data": {
      "image/png": "[encoded data removed]",
      "text/plain": [
       "<Figure size 640x480 with 1 Axes>"
      ]
     },
     "metadata": {},
     "output_type": "display_data"
    }
   ],
   "source": [
    "#Compare total matches played vs matches won vs winning rate\n",
    "d3[\"won\"]=d[\"winner\"].value_counts()\n",
    "d3[\"win rate\"]=(d3[\"won\"]/d3[\"played\"])*100\n",
    "d3.plot(kind=\"bar\")\n"
   ]
  },
  {
   "cell_type": "code",
   "execution_count": 43,
   "metadata": {},
   "outputs": [
    {
     "data": {
      "text/plain": [
       "<Axes: >"
      ]
     },
     "execution_count": 43,
     "metadata": {},
     "output_type": "execute_result"
    },
    {
     "data": {
      "image/png": "[encoded data removed]",
      "text/plain": [
       "<Figure size 1000x1000 with 1 Axes>"
      ]
     },
     "metadata": {},
     "output_type": "display_data"
    }
   ],
   "source": [
    "#Find the distribution of won the matches\n",
    "d3[\"won\"].plot(kind=\"bar\",figsize=(10,10),rot=90,color=\"mediumseagreen\")"
   ]
  },
  {
   "cell_type": "code",
   "execution_count": null,
   "metadata": {},
   "outputs": [
    {
     "data": {
      "text/plain": [
       "Chennai Super Kings            60.975610\n",
       "Deccan Chargers                38.666667\n",
       "Delhi Capitals                 62.500000\n",
       "Delhi Daredevils               41.614907\n",
       "Gujarat Lions                  43.333333\n",
       "Kings XI Punjab                46.590909\n",
       "Kochi Tuskers Kerala           42.857143\n",
       "Kolkata Knight Riders          51.685393\n",
       "Mumbai Indians                 58.288770\n",
       "Pune Warriors                  26.086957\n",
       "Rajasthan Royals               51.020408\n",
       "Rising Pune Supergiant         62.500000\n",
       "Rising Pune Supergiants        35.714286\n",
       "Royal Challengers Bangalore    46.666667\n",
       "Sunrisers Hyderabad            53.703704\n",
       "Name: win rate, dtype: float64"
      ]
     },
     "execution_count": 58,
     "metadata": {},
     "output_type": "execute_result"
    }
   ],
   "source": [
    "#Ratio between total matches and won matches\n",
    "d3[\"win rate\"]\n",
    "\n",
    "#have to plot"
   ]
  },
  {
   "cell_type": "code",
   "execution_count": null,
   "metadata": {},
   "outputs": [
    {
     "data": {
      "text/plain": [
       "toss_winner                  toss_decision\n",
       "Kolkata Knight Riders        field            62\n",
       "Royal Challengers Bangalore  field            61\n",
       "Kings XI Punjab              field            55\n",
       "Mumbai Indians               field            54\n",
       "Delhi Daredevils             field            51\n",
       "Rajasthan Royals             field            48\n",
       "Chennai Super Kings          bat              48\n",
       "Mumbai Indians               bat              44\n",
       "Chennai Super Kings          field            41\n",
       "Rajasthan Royals             bat              32\n",
       "Kolkata Knight Riders        bat              30\n",
       "Delhi Daredevils             bat              29\n",
       "Kings XI Punjab              bat              26\n",
       "Sunrisers Hyderabad          field            26\n",
       "Deccan Chargers              bat              24\n",
       "Sunrisers Hyderabad          bat              20\n",
       "Royal Challengers Bangalore  bat              20\n",
       "Deccan Chargers              field            19\n",
       "Gujarat Lions                field            14\n",
       "Pune Warriors                bat              11\n",
       "                             field             9\n",
       "Delhi Capitals               field             8\n",
       "Rising Pune Supergiant       field             6\n",
       "Kochi Tuskers Kerala         field             5\n",
       "Rising Pune Supergiants      field             4\n",
       "Kochi Tuskers Kerala         bat               3\n",
       "Rising Pune Supergiants      bat               3\n",
       "Delhi Capitals               bat               2\n",
       "Gujarat Lions                bat               1\n",
       "Name: count, dtype: int64"
      ]
     },
     "execution_count": 59,
     "metadata": {},
     "output_type": "execute_result"
    }
   ],
   "source": [
    "#What is the choice of each team after winning toss?\n",
    "t=d3.index\n",
    "t=t.tolist()\n",
    "d4=pd.DataFrame(t)\n",
    "#d4[\"bat\"]=[]\n",
    "#d4[\"field\"]=[]\n",
    "#for i in d4:\n",
    " #   for j in d4[\"toss_winner\"]:\n",
    "d[[\"toss_winner\",\"toss_decision\"]].value_counts()\n",
    "\n",
    "#have to plot"
   ]
  }
 ],
 "metadata": {
  "kernelspec": {
   "display_name": "Python 3",
   "language": "python",
   "name": "python3"
  },
  "language_info": {
   "codemirror_mode": {
    "name": "ipython",
    "version": 3
   },
   "file_extension": ".py",
   "mimetype": "text/x-python",
   "name": "python",
   "nbconvert_exporter": "python",
   "pygments_lexer": "ipython3",
   "version": "3.13.1"
  }
 },
 "nbformat": 4,
 "nbformat_minor": 2
}
