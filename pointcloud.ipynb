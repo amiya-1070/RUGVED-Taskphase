{
 "cells": [
  {
   "cell_type": "code",
   "execution_count": 2,
   "id": "8f5e8b22",
   "metadata": {},
   "outputs": [
    {
     "name": "stdout",
     "output_type": "stream",
     "text": [
      "Matched image indices: ['1', '101', '113', '115', '118', '121', '125', '13', '133', '141', '147', '157', '167', '17', '170', '174', '181', '188', '190', '22', '33', '47', '54', '66', '8', '80', '90', '96']\n",
      "Processing pair: /media/amiyaun/New Volume/rugved/task8/rgb/desk_2_1.png, /media/amiyaun/New Volume/rugved/task8/depth/desk_2_1_depth.png\n",
      "Processing pair: /media/amiyaun/New Volume/rugved/task8/rgb/desk_2_101.png, /media/amiyaun/New Volume/rugved/task8/depth/desk_2_101_depth.png\n",
      "Processing pair: /media/amiyaun/New Volume/rugved/task8/rgb/desk_2_113.png, /media/amiyaun/New Volume/rugved/task8/depth/desk_2_113_depth.png\n",
      "Processing pair: /media/amiyaun/New Volume/rugved/task8/rgb/desk_2_115.png, /media/amiyaun/New Volume/rugved/task8/depth/desk_2_115_depth.png\n",
      "Processing pair: /media/amiyaun/New Volume/rugved/task8/rgb/desk_2_118.png, /media/amiyaun/New Volume/rugved/task8/depth/desk_2_118_depth.png\n",
      "Processing pair: /media/amiyaun/New Volume/rugved/task8/rgb/desk_2_121.png, /media/amiyaun/New Volume/rugved/task8/depth/desk_2_121_depth.png\n",
      "Processing pair: /media/amiyaun/New Volume/rugved/task8/rgb/desk_2_125.png, /media/amiyaun/New Volume/rugved/task8/depth/desk_2_125_depth.png\n",
      "Processing pair: /media/amiyaun/New Volume/rugved/task8/rgb/desk_2_13.png, /media/amiyaun/New Volume/rugved/task8/depth/desk_2_13_depth.png\n",
      "Processing pair: /media/amiyaun/New Volume/rugved/task8/rgb/desk_2_133.png, /media/amiyaun/New Volume/rugved/task8/depth/desk_2_133_depth.png\n",
      "Processing pair: /media/amiyaun/New Volume/rugved/task8/rgb/desk_2_141.png, /media/amiyaun/New Volume/rugved/task8/depth/desk_2_141_depth.png\n",
      "Processing pair: /media/amiyaun/New Volume/rugved/task8/rgb/desk_2_147.png, /media/amiyaun/New Volume/rugved/task8/depth/desk_2_147_depth.png\n",
      "Processing pair: /media/amiyaun/New Volume/rugved/task8/rgb/desk_2_157.png, /media/amiyaun/New Volume/rugved/task8/depth/desk_2_157_depth.png\n",
      "Processing pair: /media/amiyaun/New Volume/rugved/task8/rgb/desk_2_167.png, /media/amiyaun/New Volume/rugved/task8/depth/desk_2_167_depth.png\n",
      "Processing pair: /media/amiyaun/New Volume/rugved/task8/rgb/desk_2_17.png, /media/amiyaun/New Volume/rugved/task8/depth/desk_2_17_depth.png\n",
      "Processing pair: /media/amiyaun/New Volume/rugved/task8/rgb/desk_2_170.png, /media/amiyaun/New Volume/rugved/task8/depth/desk_2_170_depth.png\n",
      "Processing pair: /media/amiyaun/New Volume/rugved/task8/rgb/desk_2_174.png, /media/amiyaun/New Volume/rugved/task8/depth/desk_2_174_depth.png\n",
      "Processing pair: /media/amiyaun/New Volume/rugved/task8/rgb/desk_2_181.png, /media/amiyaun/New Volume/rugved/task8/depth/desk_2_181_depth.png\n",
      "Processing pair: /media/amiyaun/New Volume/rugved/task8/rgb/desk_2_188.png, /media/amiyaun/New Volume/rugved/task8/depth/desk_2_188_depth.png\n",
      "Processing pair: /media/amiyaun/New Volume/rugved/task8/rgb/desk_2_190.png, /media/amiyaun/New Volume/rugved/task8/depth/desk_2_190_depth.png\n",
      "Processing pair: /media/amiyaun/New Volume/rugved/task8/rgb/desk_2_22.png, /media/amiyaun/New Volume/rugved/task8/depth/desk_2_22_depth.png\n",
      "Processing pair: /media/amiyaun/New Volume/rugved/task8/rgb/desk_2_33.png, /media/amiyaun/New Volume/rugved/task8/depth/desk_2_33_depth.png\n",
      "Processing pair: /media/amiyaun/New Volume/rugved/task8/rgb/desk_2_47.png, /media/amiyaun/New Volume/rugved/task8/depth/desk_2_47_depth.png\n",
      "Processing pair: /media/amiyaun/New Volume/rugved/task8/rgb/desk_2_54.png, /media/amiyaun/New Volume/rugved/task8/depth/desk_2_54_depth.png\n",
      "Processing pair: /media/amiyaun/New Volume/rugved/task8/rgb/desk_2_66.png, /media/amiyaun/New Volume/rugved/task8/depth/desk_2_66_depth.png\n",
      "Processing pair: /media/amiyaun/New Volume/rugved/task8/rgb/desk_2_8.png, /media/amiyaun/New Volume/rugved/task8/depth/desk_2_8_depth.png\n",
      "Processing pair: /media/amiyaun/New Volume/rugved/task8/rgb/desk_2_80.png, /media/amiyaun/New Volume/rugved/task8/depth/desk_2_80_depth.png\n",
      "Processing pair: /media/amiyaun/New Volume/rugved/task8/rgb/desk_2_90.png, /media/amiyaun/New Volume/rugved/task8/depth/desk_2_90_depth.png\n",
      "Processing pair: /media/amiyaun/New Volume/rugved/task8/rgb/desk_2_96.png, /media/amiyaun/New Volume/rugved/task8/depth/desk_2_96_depth.png\n",
      "Point cloud saved to desk_combined.ply\n"
     ]
    }
   ],
   "source": [
    "import open3d as o3d\n",
    "import os\n",
    "import re\n",
    "\n",
    "# Intrinsic parameters (can be replaced with real camera values)\n",
    "width, height = 640, 480\n",
    "fx, fy = 525.0, 525.0\n",
    "cx, cy = 319.5, 239.5\n",
    "intrinsic = o3d.camera.PinholeCameraIntrinsic(width, height, fx, fy, cx, cy)\n",
    "\n",
    "# Set folder paths\n",
    "rgb_folder = \"/media/amiyaun/New Volume/rugved/task8/rgb\"\n",
    "depth_folder = \"/media/amiyaun/New Volume/rugved/task8/depth\"\n",
    "\n",
    "# Helper function to extract index from filename\n",
    "def get_index(file_name):\n",
    "    match = re.search(r\"desk_2_(\\d+)\", file_name)\n",
    "    return match.group(1) if match else None\n",
    "\n",
    "# Build dictionaries of file paths indexed by ID\n",
    "rgb_files = {\n",
    "    get_index(f): os.path.join(rgb_folder, f)\n",
    "    for f in os.listdir(rgb_folder)\n",
    "    if f.endswith(\".png\")\n",
    "}\n",
    "depth_files = {\n",
    "    get_index(f): os.path.join(depth_folder, f)\n",
    "    for f in os.listdir(depth_folder)\n",
    "    if f.endswith(\".png\")\n",
    "}\n",
    "\n",
    "# Find matching indices\n",
    "common_indices = sorted(set(rgb_files.keys()) & set(depth_files.keys()))\n",
    "print(\"Matched image indices:\", common_indices)\n",
    "\n",
    "# Function to create point cloud from a pair\n",
    "def create_point_cloud(rgb_path, depth_path):\n",
    "    color = o3d.io.read_image(rgb_path)\n",
    "    depth = o3d.io.read_image(depth_path)\n",
    "\n",
    "    rgbd_image = o3d.geometry.RGBDImage.create_from_color_and_depth(\n",
    "        color, depth,\n",
    "        depth_scale=1000.0,   # 1 unit = 1 mm\n",
    "        depth_trunc=3.0,      # ignore depths > 3 meters\n",
    "        convert_rgb_to_intensity=False\n",
    "    )\n",
    "\n",
    "    pcd = o3d.geometry.PointCloud.create_from_rgbd_image(\n",
    "        rgbd_image, intrinsic\n",
    "    )\n",
    "\n",
    "    return pcd\n",
    "\n",
    "# Combine all point clouds\n",
    "combined_pcd = o3d.geometry.PointCloud()\n",
    "\n",
    "for idx in common_indices:\n",
    "    rgb_path = rgb_files[idx]\n",
    "    depth_path = depth_files[idx]\n",
    "\n",
    "    print(f\"Processing pair: {rgb_path}, {depth_path}\")\n",
    "    pcd = create_point_cloud(rgb_path, depth_path)\n",
    "    combined_pcd += pcd\n",
    "\n",
    "# Downsample for faster visualization\n",
    "combined_pcd = combined_pcd.voxel_down_sample(voxel_size=0.005)\n",
    "\n",
    "# Save to file\n",
    "o3d.io.write_point_cloud(\"desk_combined.ply\", combined_pcd)\n",
    "print(\"Point cloud saved to desk_combined.ply\")\n"
   ]
  },
  {
   "cell_type": "code",
   "execution_count": 3,
   "id": "8e76dacd",
   "metadata": {},
   "outputs": [
    {
     "name": "stdout",
     "output_type": "stream",
     "text": [
      "[Open3D INFO] Window window_0 created.\n",
      "[Open3D INFO] EGL headless mode enabled.\n",
      "WARNING: Using soft CircularBuffer (6144 KiB)\n",
      "FEngine (64 bits) created at 0x599f4aa69130 (threading is enabled)\n",
      "EGL(1.5)\n",
      "OpenGL(4.6)\n",
      "[Open3D INFO] ICE servers: [\"stun:stun.l.google.com:19302\", \"turn:user:password@34.69.27.100:3478\", \"turn:user:password@34.69.27.100:3478?transport=tcp\"]\n",
      "[Open3D INFO] Set WEBRTC_STUN_SERVER environment variable add a customized WebRTC STUN server.\n",
      "[Open3D INFO] WebRTC Jupyter handshake mode enabled.\n"
     ]
    },
    {
     "ename": "KeyboardInterrupt",
     "evalue": "",
     "output_type": "error",
     "traceback": [
      "\u001b[0;31m---------------------------------------------------------------------------\u001b[0m",
      "\u001b[0;31mKeyboardInterrupt\u001b[0m                         Traceback (most recent call last)",
      "Cell \u001b[0;32mIn[3], line 1\u001b[0m\n\u001b[0;32m----> 1\u001b[0m \u001b[43mo3d\u001b[49m\u001b[38;5;241;43m.\u001b[39;49m\u001b[43mvisualization\u001b[49m\u001b[38;5;241;43m.\u001b[39;49m\u001b[43mdraw\u001b[49m\u001b[43m(\u001b[49m\u001b[43m[\u001b[49m\u001b[43mcombined_pcd\u001b[49m\u001b[43m]\u001b[49m\u001b[43m)\u001b[49m\n",
      "File \u001b[0;32m/media/amiyaun/New Volume/rugved/task8/.venv/lib/python3.10/site-packages/open3d/visualization/draw.py:230\u001b[0m, in \u001b[0;36mdraw\u001b[0;34m(geometry, title, width, height, actions, lookat, eye, up, field_of_view, intrinsic_matrix, extrinsic_matrix, bg_color, bg_image, ibl, ibl_intensity, show_skybox, show_ui, raw_mode, point_size, line_width, animation_time_step, animation_duration, rpc_interface, on_init, on_animation_frame, on_animation_tick, non_blocking_and_return_uid)\u001b[0m\n\u001b[1;32m    228\u001b[0m     \u001b[38;5;28;01mreturn\u001b[39;00m w\u001b[38;5;241m.\u001b[39muid\n\u001b[1;32m    229\u001b[0m \u001b[38;5;28;01melse\u001b[39;00m:\n\u001b[0;32m--> 230\u001b[0m     \u001b[43mgui\u001b[49m\u001b[38;5;241;43m.\u001b[39;49m\u001b[43mApplication\u001b[49m\u001b[38;5;241;43m.\u001b[39;49m\u001b[43minstance\u001b[49m\u001b[38;5;241;43m.\u001b[39;49m\u001b[43mrun\u001b[49m\u001b[43m(\u001b[49m\u001b[43m)\u001b[49m\n",
      "\u001b[0;31mKeyboardInterrupt\u001b[0m: "
     ]
    }
   ],
   "source": [
    "o3d.visualization.draw([combined_pcd])\n"
   ]
  },
  {
   "cell_type": "code",
   "execution_count": 4,
   "id": "1e8248bf",
   "metadata": {},
   "outputs": [
    {
     "name": "stdout",
     "output_type": "stream",
     "text": [
      "Precompute neighbors.[========================================] 100%\n",
      "Detected 650 clusters=============================>] 97%\n",
      "[Open3D INFO] Window window_1 created.\n"
     ]
    },
    {
     "ename": "KeyboardInterrupt",
     "evalue": "",
     "output_type": "error",
     "traceback": [
      "\u001b[0;31m---------------------------------------------------------------------------\u001b[0m",
      "\u001b[0;31mKeyboardInterrupt\u001b[0m                         Traceback (most recent call last)",
      "Cell \u001b[0;32mIn[4], line 25\u001b[0m\n\u001b[1;32m     22\u001b[0m pcd\u001b[38;5;241m.\u001b[39mcolors \u001b[38;5;241m=\u001b[39m o3d\u001b[38;5;241m.\u001b[39mutility\u001b[38;5;241m.\u001b[39mVector3dVector(colors[:, :\u001b[38;5;241m3\u001b[39m])  \u001b[38;5;66;03m# RGB only\u001b[39;00m\n\u001b[1;32m     24\u001b[0m \u001b[38;5;66;03m# Visualize the clustered point cloud\u001b[39;00m\n\u001b[0;32m---> 25\u001b[0m \u001b[43mo3d\u001b[49m\u001b[38;5;241;43m.\u001b[39;49m\u001b[43mvisualization\u001b[49m\u001b[38;5;241;43m.\u001b[39;49m\u001b[43mdraw\u001b[49m\u001b[43m(\u001b[49m\u001b[43m[\u001b[49m\u001b[43mpcd\u001b[49m\u001b[43m]\u001b[49m\u001b[43m)\u001b[49m\n",
      "File \u001b[0;32m/media/amiyaun/New Volume/rugved/task8/.venv/lib/python3.10/site-packages/open3d/visualization/draw.py:230\u001b[0m, in \u001b[0;36mdraw\u001b[0;34m(geometry, title, width, height, actions, lookat, eye, up, field_of_view, intrinsic_matrix, extrinsic_matrix, bg_color, bg_image, ibl, ibl_intensity, show_skybox, show_ui, raw_mode, point_size, line_width, animation_time_step, animation_duration, rpc_interface, on_init, on_animation_frame, on_animation_tick, non_blocking_and_return_uid)\u001b[0m\n\u001b[1;32m    228\u001b[0m     \u001b[38;5;28;01mreturn\u001b[39;00m w\u001b[38;5;241m.\u001b[39muid\n\u001b[1;32m    229\u001b[0m \u001b[38;5;28;01melse\u001b[39;00m:\n\u001b[0;32m--> 230\u001b[0m     \u001b[43mgui\u001b[49m\u001b[38;5;241;43m.\u001b[39;49m\u001b[43mApplication\u001b[49m\u001b[38;5;241;43m.\u001b[39;49m\u001b[43minstance\u001b[49m\u001b[38;5;241;43m.\u001b[39;49m\u001b[43mrun\u001b[49m\u001b[43m(\u001b[49m\u001b[43m)\u001b[49m\n",
      "\u001b[0;31mKeyboardInterrupt\u001b[0m: "
     ]
    }
   ],
   "source": [
    "import open3d as o3d\n",
    "import numpy as np\n",
    "import matplotlib.pyplot as plt\n",
    "\n",
    "# Load the saved point cloud\n",
    "pcd = o3d.io.read_point_cloud(\"desk_combined.ply\")\n",
    "\n",
    "# Estimate normals (optional, useful for more complex processing)\n",
    "pcd.estimate_normals()\n",
    "\n",
    "# Run DBSCAN clustering\n",
    "# eps: distance threshold (try 0.02 ~ 0.05 depending on scene size)\n",
    "# min_points: minimum cluster size\n",
    "labels = np.array(pcd.cluster_dbscan(eps=0.02, min_points=20, print_progress=True))\n",
    "\n",
    "num_clusters = labels.max() + 1\n",
    "print(f\"Detected {num_clusters} clusters\")\n",
    "\n",
    "# Assign random color to each cluster\n",
    "colors = plt.get_cmap(\"tab20\")(labels / (num_clusters if num_clusters > 0 else 1))\n",
    "colors[labels < 0] = [0, 0, 0, 1]  # noise (outliers) in black\n",
    "pcd.colors = o3d.utility.Vector3dVector(colors[:, :3])  # RGB only\n",
    "\n",
    "# Visualize the clustered point cloud\n",
    "o3d.visualization.draw([pcd])\n"
   ]
  }
 ],
 "metadata": {
  "kernelspec": {
   "display_name": ".venv",
   "language": "python",
   "name": "python3"
  },
  "language_info": {
   "codemirror_mode": {
    "name": "ipython",
    "version": 3
   },
   "file_extension": ".py",
   "mimetype": "text/x-python",
   "name": "python",
   "nbconvert_exporter": "python",
   "pygments_lexer": "ipython3",
   "version": "3.10.13"
  }
 },
 "nbformat": 4,
 "nbformat_minor": 5
}
